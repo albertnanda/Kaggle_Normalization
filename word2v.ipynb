{
 "cells": [
  {
   "cell_type": "code",
   "execution_count": 10,
   "metadata": {
    "collapsed": false
   },
   "outputs": [],
   "source": [
    "import gensim\n",
    "import numpy as np\n",
    "import pandas as pd\n",
    "import nltk"
   ]
  },
  {
   "cell_type": "code",
   "execution_count": 2,
   "metadata": {
    "collapsed": true
   },
   "outputs": [],
   "source": [
    "sentences = [['first', 'sentence'], ['second', 'sentence']]"
   ]
  },
  {
   "cell_type": "code",
   "execution_count": 32,
   "metadata": {
    "collapsed": false
   },
   "outputs": [
    {
     "ename": "TypeError",
     "evalue": "load() got an unexpected keyword argument 'limit'",
     "output_type": "error",
     "traceback": [
      "\u001b[0;31m---------------------------------------------------------------------------\u001b[0m",
      "\u001b[0;31mTypeError\u001b[0m                                 Traceback (most recent call last)",
      "\u001b[0;32m<ipython-input-32-95e5abc8dbd3>\u001b[0m in \u001b[0;36m<module>\u001b[0;34m()\u001b[0m\n\u001b[0;32m----> 1\u001b[0;31m \u001b[0mmod\u001b[0m\u001b[1;33m=\u001b[0m\u001b[0mgensim\u001b[0m\u001b[1;33m.\u001b[0m\u001b[0mmodels\u001b[0m\u001b[1;33m.\u001b[0m\u001b[0mWord2Vec\u001b[0m\u001b[1;33m.\u001b[0m\u001b[0mload\u001b[0m\u001b[1;33m(\u001b[0m\u001b[1;34m\"./data/word2vec.bin\"\u001b[0m\u001b[1;33m,\u001b[0m\u001b[0mlimit\u001b[0m\u001b[1;33m=\u001b[0m\u001b[1;36m10\u001b[0m\u001b[1;33m)\u001b[0m\u001b[1;33m\u001b[0m\u001b[0m\n\u001b[0m",
      "\u001b[0;32mC:\\Users\\a.aristotle.nanda\\AppData\\Local\\Continuum\\Anaconda3\\lib\\site-packages\\gensim\\models\\word2vec.py\u001b[0m in \u001b[0;36mload\u001b[0;34m(cls, *args, **kwargs)\u001b[0m\n\u001b[1;32m   1481\u001b[0m     \u001b[1;33m@\u001b[0m\u001b[0mclassmethod\u001b[0m\u001b[1;33m\u001b[0m\u001b[0m\n\u001b[1;32m   1482\u001b[0m     \u001b[1;32mdef\u001b[0m \u001b[0mload\u001b[0m\u001b[1;33m(\u001b[0m\u001b[0mcls\u001b[0m\u001b[1;33m,\u001b[0m \u001b[1;33m*\u001b[0m\u001b[0margs\u001b[0m\u001b[1;33m,\u001b[0m \u001b[1;33m**\u001b[0m\u001b[0mkwargs\u001b[0m\u001b[1;33m)\u001b[0m\u001b[1;33m:\u001b[0m\u001b[1;33m\u001b[0m\u001b[0m\n\u001b[0;32m-> 1483\u001b[0;31m         \u001b[0mmodel\u001b[0m \u001b[1;33m=\u001b[0m \u001b[0msuper\u001b[0m\u001b[1;33m(\u001b[0m\u001b[0mWord2Vec\u001b[0m\u001b[1;33m,\u001b[0m \u001b[0mcls\u001b[0m\u001b[1;33m)\u001b[0m\u001b[1;33m.\u001b[0m\u001b[0mload\u001b[0m\u001b[1;33m(\u001b[0m\u001b[1;33m*\u001b[0m\u001b[0margs\u001b[0m\u001b[1;33m,\u001b[0m \u001b[1;33m**\u001b[0m\u001b[0mkwargs\u001b[0m\u001b[1;33m)\u001b[0m\u001b[1;33m\u001b[0m\u001b[0m\n\u001b[0m\u001b[1;32m   1484\u001b[0m         \u001b[1;31m# update older models\u001b[0m\u001b[1;33m\u001b[0m\u001b[1;33m\u001b[0m\u001b[0m\n\u001b[1;32m   1485\u001b[0m         \u001b[1;32mif\u001b[0m \u001b[0mhasattr\u001b[0m\u001b[1;33m(\u001b[0m\u001b[0mmodel\u001b[0m\u001b[1;33m,\u001b[0m \u001b[1;34m'table'\u001b[0m\u001b[1;33m)\u001b[0m\u001b[1;33m:\u001b[0m\u001b[1;33m\u001b[0m\u001b[0m\n",
      "\u001b[0;31mTypeError\u001b[0m: load() got an unexpected keyword argument 'limit'"
     ]
    }
   ],
   "source": [
    "mod=gensim.models.Word2Vec.load(\"./data/word2vec.bin\")"
   ]
  },
  {
   "cell_type": "code",
   "execution_count": 143,
   "metadata": {
    "collapsed": true
   },
   "outputs": [],
   "source": [
    "dummy=\"A quick brown fox jumps over the lazy dog xxxxx3\""
   ]
  },
  {
   "cell_type": "code",
   "execution_count": 8,
   "metadata": {
    "collapsed": false
   },
   "outputs": [],
   "source": [
    "sentend=np.ones((300,),dtype=np.float32)"
   ]
  },
  {
   "cell_type": "code",
   "execution_count": 144,
   "metadata": {
    "collapsed": false
   },
   "outputs": [],
   "source": [
    "sent=nltk.word_tokenize(dummy.lower())"
   ]
  },
  {
   "cell_type": "code",
   "execution_count": 168,
   "metadata": {
    "collapsed": true
   },
   "outputs": [],
   "source": [
    "dt=pd.DataFrame()\n",
    "dt['word']=np.asarray(sent)"
   ]
  },
  {
   "cell_type": "code",
   "execution_count": 146,
   "metadata": {
    "collapsed": false
   },
   "outputs": [],
   "source": [
    "cols=['w2v'+str(x) for x in range(300)]"
   ]
  },
  {
   "cell_type": "code",
   "execution_count": 147,
   "metadata": {
    "collapsed": false
   },
   "outputs": [],
   "source": [
    "for col in cols:\n",
    "    dt[col]=0"
   ]
  },
  {
   "cell_type": "code",
   "execution_count": 94,
   "metadata": {
    "collapsed": false
   },
   "outputs": [],
   "source": [
    "for i in range(dt.shape[0]):\n",
    "    if(dt.iloc[i,0].lower() in mod.vocab):\n",
    "        dt.iloc[i,1:301]=mod[dt.iloc[i,0].lower()]"
   ]
  },
  {
   "cell_type": "code",
   "execution_count": 164,
   "metadata": {
    "collapsed": false
   },
   "outputs": [],
   "source": [
    "dt[list(range(1,301))]= np.array([mod[w.lower()] if w.lower() in mod.vocab else [0.0]*300 for w in dt['word']])"
   ]
  },
  {
   "cell_type": "code",
   "execution_count": 110,
   "metadata": {
    "collapsed": false
   },
   "outputs": [
    {
     "data": {
      "text/html": [
       "<div>\n",
       "<table border=\"1\" class=\"dataframe\">\n",
       "  <thead>\n",
       "    <tr style=\"text-align: right;\">\n",
       "      <th></th>\n",
       "      <th>word</th>\n",
       "      <th>w2v0</th>\n",
       "      <th>w2v1</th>\n",
       "      <th>w2v2</th>\n",
       "      <th>w2v3</th>\n",
       "      <th>w2v4</th>\n",
       "      <th>w2v5</th>\n",
       "      <th>w2v6</th>\n",
       "      <th>w2v7</th>\n",
       "      <th>w2v8</th>\n",
       "      <th>...</th>\n",
       "      <th>w2v290</th>\n",
       "      <th>w2v291</th>\n",
       "      <th>w2v292</th>\n",
       "      <th>w2v293</th>\n",
       "      <th>w2v294</th>\n",
       "      <th>w2v295</th>\n",
       "      <th>w2v296</th>\n",
       "      <th>w2v297</th>\n",
       "      <th>w2v298</th>\n",
       "      <th>w2v299</th>\n",
       "    </tr>\n",
       "  </thead>\n",
       "  <tbody>\n",
       "    <tr>\n",
       "      <th>0</th>\n",
       "      <td>a</td>\n",
       "      <td>-0.027696</td>\n",
       "      <td>0.154942</td>\n",
       "      <td>-0.002055</td>\n",
       "      <td>-0.275003</td>\n",
       "      <td>-0.083155</td>\n",
       "      <td>-0.035051</td>\n",
       "      <td>-0.094008</td>\n",
       "      <td>0.047209</td>\n",
       "      <td>0.148744</td>\n",
       "      <td>...</td>\n",
       "      <td>-0.043737</td>\n",
       "      <td>-0.034667</td>\n",
       "      <td>-0.000887</td>\n",
       "      <td>-0.091519</td>\n",
       "      <td>-0.110445</td>\n",
       "      <td>-0.028187</td>\n",
       "      <td>-0.141064</td>\n",
       "      <td>0.024182</td>\n",
       "      <td>0.069467</td>\n",
       "      <td>0.015799</td>\n",
       "    </tr>\n",
       "    <tr>\n",
       "      <th>1</th>\n",
       "      <td>quick</td>\n",
       "      <td>-0.121489</td>\n",
       "      <td>-0.050858</td>\n",
       "      <td>0.011693</td>\n",
       "      <td>-0.174007</td>\n",
       "      <td>-0.242249</td>\n",
       "      <td>0.071566</td>\n",
       "      <td>-0.165347</td>\n",
       "      <td>0.130213</td>\n",
       "      <td>-0.105383</td>\n",
       "      <td>...</td>\n",
       "      <td>0.234443</td>\n",
       "      <td>0.382353</td>\n",
       "      <td>-0.302804</td>\n",
       "      <td>0.046331</td>\n",
       "      <td>0.101977</td>\n",
       "      <td>-0.064268</td>\n",
       "      <td>-0.133087</td>\n",
       "      <td>-0.071834</td>\n",
       "      <td>-0.196788</td>\n",
       "      <td>0.138424</td>\n",
       "    </tr>\n",
       "    <tr>\n",
       "      <th>2</th>\n",
       "      <td>brown</td>\n",
       "      <td>0.002752</td>\n",
       "      <td>0.288335</td>\n",
       "      <td>-0.017830</td>\n",
       "      <td>-0.044686</td>\n",
       "      <td>0.251224</td>\n",
       "      <td>-0.074969</td>\n",
       "      <td>-0.249890</td>\n",
       "      <td>0.342972</td>\n",
       "      <td>0.248369</td>\n",
       "      <td>...</td>\n",
       "      <td>0.046360</td>\n",
       "      <td>-0.297215</td>\n",
       "      <td>-0.025226</td>\n",
       "      <td>0.001700</td>\n",
       "      <td>0.030624</td>\n",
       "      <td>0.019462</td>\n",
       "      <td>-0.025659</td>\n",
       "      <td>0.016970</td>\n",
       "      <td>-0.010906</td>\n",
       "      <td>-0.039254</td>\n",
       "    </tr>\n",
       "    <tr>\n",
       "      <th>3</th>\n",
       "      <td>fox</td>\n",
       "      <td>0.128044</td>\n",
       "      <td>0.372890</td>\n",
       "      <td>-0.134787</td>\n",
       "      <td>-0.196581</td>\n",
       "      <td>0.238324</td>\n",
       "      <td>0.015022</td>\n",
       "      <td>-0.072417</td>\n",
       "      <td>0.088630</td>\n",
       "      <td>0.191062</td>\n",
       "      <td>...</td>\n",
       "      <td>0.143289</td>\n",
       "      <td>-0.138115</td>\n",
       "      <td>-0.166557</td>\n",
       "      <td>0.122022</td>\n",
       "      <td>0.240156</td>\n",
       "      <td>-0.043009</td>\n",
       "      <td>-0.208754</td>\n",
       "      <td>-0.064954</td>\n",
       "      <td>0.412168</td>\n",
       "      <td>-0.114998</td>\n",
       "    </tr>\n",
       "    <tr>\n",
       "      <th>4</th>\n",
       "      <td>jumps</td>\n",
       "      <td>-0.269618</td>\n",
       "      <td>0.051108</td>\n",
       "      <td>-0.410830</td>\n",
       "      <td>0.107346</td>\n",
       "      <td>-0.255023</td>\n",
       "      <td>-0.098838</td>\n",
       "      <td>-0.494823</td>\n",
       "      <td>0.295119</td>\n",
       "      <td>-0.352062</td>\n",
       "      <td>...</td>\n",
       "      <td>-0.082070</td>\n",
       "      <td>0.456667</td>\n",
       "      <td>0.215904</td>\n",
       "      <td>0.187553</td>\n",
       "      <td>0.083544</td>\n",
       "      <td>-0.183604</td>\n",
       "      <td>-0.015881</td>\n",
       "      <td>-0.122317</td>\n",
       "      <td>-0.191575</td>\n",
       "      <td>0.058547</td>\n",
       "    </tr>\n",
       "    <tr>\n",
       "      <th>5</th>\n",
       "      <td>over</td>\n",
       "      <td>0.095948</td>\n",
       "      <td>0.104149</td>\n",
       "      <td>0.068163</td>\n",
       "      <td>-0.205686</td>\n",
       "      <td>-0.009413</td>\n",
       "      <td>-0.138090</td>\n",
       "      <td>-0.062259</td>\n",
       "      <td>0.046038</td>\n",
       "      <td>-0.126470</td>\n",
       "      <td>...</td>\n",
       "      <td>0.122984</td>\n",
       "      <td>0.056607</td>\n",
       "      <td>-0.022388</td>\n",
       "      <td>0.043768</td>\n",
       "      <td>-0.045865</td>\n",
       "      <td>0.029490</td>\n",
       "      <td>0.048924</td>\n",
       "      <td>-0.193553</td>\n",
       "      <td>-0.043102</td>\n",
       "      <td>-0.079226</td>\n",
       "    </tr>\n",
       "    <tr>\n",
       "      <th>6</th>\n",
       "      <td>the</td>\n",
       "      <td>-0.050502</td>\n",
       "      <td>0.103895</td>\n",
       "      <td>0.026017</td>\n",
       "      <td>-0.228261</td>\n",
       "      <td>-0.051862</td>\n",
       "      <td>-0.111996</td>\n",
       "      <td>-0.098679</td>\n",
       "      <td>0.095194</td>\n",
       "      <td>0.054949</td>\n",
       "      <td>...</td>\n",
       "      <td>-0.044429</td>\n",
       "      <td>-0.079553</td>\n",
       "      <td>-0.086189</td>\n",
       "      <td>-0.072240</td>\n",
       "      <td>-0.043736</td>\n",
       "      <td>0.010728</td>\n",
       "      <td>-0.101097</td>\n",
       "      <td>-0.032417</td>\n",
       "      <td>0.131433</td>\n",
       "      <td>-0.123080</td>\n",
       "    </tr>\n",
       "    <tr>\n",
       "      <th>7</th>\n",
       "      <td>lazy</td>\n",
       "      <td>-0.022491</td>\n",
       "      <td>-0.173859</td>\n",
       "      <td>0.031160</td>\n",
       "      <td>-0.211231</td>\n",
       "      <td>-0.059652</td>\n",
       "      <td>-0.172215</td>\n",
       "      <td>-0.482907</td>\n",
       "      <td>0.183088</td>\n",
       "      <td>-0.115588</td>\n",
       "      <td>...</td>\n",
       "      <td>-0.127033</td>\n",
       "      <td>0.318334</td>\n",
       "      <td>-0.175290</td>\n",
       "      <td>0.253542</td>\n",
       "      <td>0.083428</td>\n",
       "      <td>-0.307761</td>\n",
       "      <td>-0.311934</td>\n",
       "      <td>-0.060187</td>\n",
       "      <td>-0.128761</td>\n",
       "      <td>0.175217</td>\n",
       "    </tr>\n",
       "    <tr>\n",
       "      <th>8</th>\n",
       "      <td>dog</td>\n",
       "      <td>0.006213</td>\n",
       "      <td>0.317170</td>\n",
       "      <td>-0.107007</td>\n",
       "      <td>-0.321204</td>\n",
       "      <td>0.077980</td>\n",
       "      <td>-0.120861</td>\n",
       "      <td>-0.542523</td>\n",
       "      <td>0.226835</td>\n",
       "      <td>0.120677</td>\n",
       "      <td>...</td>\n",
       "      <td>0.092187</td>\n",
       "      <td>-0.000532</td>\n",
       "      <td>-0.129831</td>\n",
       "      <td>0.233611</td>\n",
       "      <td>0.171940</td>\n",
       "      <td>-0.199526</td>\n",
       "      <td>0.078315</td>\n",
       "      <td>-0.223624</td>\n",
       "      <td>0.309197</td>\n",
       "      <td>-0.071768</td>\n",
       "    </tr>\n",
       "    <tr>\n",
       "      <th>9</th>\n",
       "      <td>apple</td>\n",
       "      <td>-0.115221</td>\n",
       "      <td>0.467982</td>\n",
       "      <td>-0.018253</td>\n",
       "      <td>-0.752624</td>\n",
       "      <td>-0.043841</td>\n",
       "      <td>0.289731</td>\n",
       "      <td>0.371120</td>\n",
       "      <td>0.406254</td>\n",
       "      <td>-0.133819</td>\n",
       "      <td>...</td>\n",
       "      <td>0.393256</td>\n",
       "      <td>0.168601</td>\n",
       "      <td>0.168396</td>\n",
       "      <td>0.104203</td>\n",
       "      <td>0.250010</td>\n",
       "      <td>-0.072669</td>\n",
       "      <td>-0.031671</td>\n",
       "      <td>-0.382500</td>\n",
       "      <td>0.046189</td>\n",
       "      <td>-0.043573</td>\n",
       "    </tr>\n",
       "  </tbody>\n",
       "</table>\n",
       "<p>10 rows × 301 columns</p>\n",
       "</div>"
      ],
      "text/plain": [
       "    word      w2v0      w2v1      w2v2      w2v3      w2v4      w2v5  \\\n",
       "0      a -0.027696  0.154942 -0.002055 -0.275003 -0.083155 -0.035051   \n",
       "1  quick -0.121489 -0.050858  0.011693 -0.174007 -0.242249  0.071566   \n",
       "2  brown  0.002752  0.288335 -0.017830 -0.044686  0.251224 -0.074969   \n",
       "3    fox  0.128044  0.372890 -0.134787 -0.196581  0.238324  0.015022   \n",
       "4  jumps -0.269618  0.051108 -0.410830  0.107346 -0.255023 -0.098838   \n",
       "5   over  0.095948  0.104149  0.068163 -0.205686 -0.009413 -0.138090   \n",
       "6    the -0.050502  0.103895  0.026017 -0.228261 -0.051862 -0.111996   \n",
       "7   lazy -0.022491 -0.173859  0.031160 -0.211231 -0.059652 -0.172215   \n",
       "8    dog  0.006213  0.317170 -0.107007 -0.321204  0.077980 -0.120861   \n",
       "9  apple -0.115221  0.467982 -0.018253 -0.752624 -0.043841  0.289731   \n",
       "\n",
       "       w2v6      w2v7      w2v8    ...       w2v290    w2v291    w2v292  \\\n",
       "0 -0.094008  0.047209  0.148744    ...    -0.043737 -0.034667 -0.000887   \n",
       "1 -0.165347  0.130213 -0.105383    ...     0.234443  0.382353 -0.302804   \n",
       "2 -0.249890  0.342972  0.248369    ...     0.046360 -0.297215 -0.025226   \n",
       "3 -0.072417  0.088630  0.191062    ...     0.143289 -0.138115 -0.166557   \n",
       "4 -0.494823  0.295119 -0.352062    ...    -0.082070  0.456667  0.215904   \n",
       "5 -0.062259  0.046038 -0.126470    ...     0.122984  0.056607 -0.022388   \n",
       "6 -0.098679  0.095194  0.054949    ...    -0.044429 -0.079553 -0.086189   \n",
       "7 -0.482907  0.183088 -0.115588    ...    -0.127033  0.318334 -0.175290   \n",
       "8 -0.542523  0.226835  0.120677    ...     0.092187 -0.000532 -0.129831   \n",
       "9  0.371120  0.406254 -0.133819    ...     0.393256  0.168601  0.168396   \n",
       "\n",
       "     w2v293    w2v294    w2v295    w2v296    w2v297    w2v298    w2v299  \n",
       "0 -0.091519 -0.110445 -0.028187 -0.141064  0.024182  0.069467  0.015799  \n",
       "1  0.046331  0.101977 -0.064268 -0.133087 -0.071834 -0.196788  0.138424  \n",
       "2  0.001700  0.030624  0.019462 -0.025659  0.016970 -0.010906 -0.039254  \n",
       "3  0.122022  0.240156 -0.043009 -0.208754 -0.064954  0.412168 -0.114998  \n",
       "4  0.187553  0.083544 -0.183604 -0.015881 -0.122317 -0.191575  0.058547  \n",
       "5  0.043768 -0.045865  0.029490  0.048924 -0.193553 -0.043102 -0.079226  \n",
       "6 -0.072240 -0.043736  0.010728 -0.101097 -0.032417  0.131433 -0.123080  \n",
       "7  0.253542  0.083428 -0.307761 -0.311934 -0.060187 -0.128761  0.175217  \n",
       "8  0.233611  0.171940 -0.199526  0.078315 -0.223624  0.309197 -0.071768  \n",
       "9  0.104203  0.250010 -0.072669 -0.031671 -0.382500  0.046189 -0.043573  \n",
       "\n",
       "[10 rows x 301 columns]"
      ]
     },
     "execution_count": 110,
     "metadata": {},
     "output_type": "execute_result"
    }
   ],
   "source": [
    "dt"
   ]
  },
  {
   "cell_type": "code",
   "execution_count": null,
   "metadata": {
    "collapsed": true
   },
   "outputs": [],
   "source": []
  }
 ],
 "metadata": {
  "kernelspec": {
   "display_name": "Python 3",
   "language": "python",
   "name": "python3"
  },
  "language_info": {
   "codemirror_mode": {
    "name": "ipython",
    "version": 3
   },
   "file_extension": ".py",
   "mimetype": "text/x-python",
   "name": "python",
   "nbconvert_exporter": "python",
   "pygments_lexer": "ipython3",
   "version": "3.6.0"
  }
 },
 "nbformat": 4,
 "nbformat_minor": 2
}
